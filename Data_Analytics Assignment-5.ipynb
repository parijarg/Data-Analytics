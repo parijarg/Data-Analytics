{
 "cells": [
  {
   "cell_type": "code",
   "execution_count": null,
   "id": "904a3a81",
   "metadata": {},
   "outputs": [],
   "source": [
    "1. How many types of conditions are available in conditional formatting on Excel?\n",
    "\n",
    ":-  There are five types of conditions available in conditional formatting.\n",
    "    Data bars, color scales, and icon sets are the different conditional formatting techniques in excel \n",
    "    that visually enhance the appearance of a dataset. In these techniques, the bars, shapes, color patterns,\n",
    "    arrows, etc., are used to represent data."
   ]
  },
  {
   "cell_type": "code",
   "execution_count": null,
   "id": "8e83b901",
   "metadata": {},
   "outputs": [],
   "source": [
    "2. How to insert border in Excel with Format Cells dialog?\n",
    "\n",
    ":- To insert border in excel\n",
    "    1. In home ribbon bar, there is border option in font group.\n",
    "    2. Click on drop down arrow.\n",
    "    3. Then you can choose which type of border you want for respective cell. "
   ]
  },
  {
   "cell_type": "code",
   "execution_count": null,
   "id": "38ba82ee",
   "metadata": {},
   "outputs": [],
   "source": [
    "3. How to Format Numbers as Currency in Excel?\n",
    "\n",
    ":- To format numbers as currency\n",
    "    1. In home ribbon bar, there is drop down category option in number group.\n",
    "    2. There you can select if given number is currency or general number, date, time or percentage\n",
    "    3. To set number as currency select currency option from that menu"
   ]
  },
  {
   "cell_type": "code",
   "execution_count": null,
   "id": "1975f4de",
   "metadata": {},
   "outputs": [],
   "source": [
    "4. What are the steps to format numbers in Excel with the Percent style?\n",
    "\n",
    ":- To format numbers with percent style\n",
    "    1. In home ribbon bar, there is drop down bar option in number group.\n",
    "    2. There you can select percent style for selected cell, or can use short cut Ctrl + Shift + %"
   ]
  },
  {
   "cell_type": "code",
   "execution_count": null,
   "id": "48b7e6f3",
   "metadata": {},
   "outputs": [],
   "source": [
    "5. What is a shortcut to merge two or more cells in excel?\n",
    "\n",
    ":- To merge two or more cells in excel, there is option merge and centre in alignment group of home bar, \n",
    "   there are four different options i.e. Merge & Centre, Merge Across, Merge cells and unmerge cells you can choose accordingly"
   ]
  },
  {
   "cell_type": "code",
   "execution_count": null,
   "id": "e26fb67b",
   "metadata": {},
   "outputs": [],
   "source": [
    "6. How do you use text commands in Excel?\n",
    "\n",
    ":- The Excel TEXT Function is used to convert numbers to text within a spreadsheet. \n",
    "   Essentially, the function will convert a numeric value into a text string.\n",
    "\n",
    "   Syntax for function is =Text(Value, format_text)\n",
    "   Value is the numerical value that we need to convert to text\n",
    "   Format_text is the format we want to apply"
   ]
  }
 ],
 "metadata": {
  "kernelspec": {
   "display_name": "Python 3",
   "language": "python",
   "name": "python3"
  },
  "language_info": {
   "codemirror_mode": {
    "name": "ipython",
    "version": 3
   },
   "file_extension": ".py",
   "mimetype": "text/x-python",
   "name": "python",
   "nbconvert_exporter": "python",
   "pygments_lexer": "ipython3",
   "version": "3.8.8"
  }
 },
 "nbformat": 4,
 "nbformat_minor": 5
}
