{
 "cells": [
  {
   "cell_type": "code",
   "execution_count": null,
   "id": "4cc151d9",
   "metadata": {},
   "outputs": [],
   "source": [
    "1. To use the ribbon commands, what menu and grouping of commands will you\n",
    "find the Insert and Delete command?\n",
    "\n",
    ":- In menu ribbon command, cells grouping command have insert and delete command."
   ]
  },
  {
   "cell_type": "code",
   "execution_count": null,
   "id": "ea18b7c6",
   "metadata": {},
   "outputs": [],
   "source": [
    "2. If you set a row height or column width to 0 (zero), what happens to the row and\n",
    "column?\n",
    "\n",
    ":- If you set a row height or column width to 0 (zero), respective row or column gets hidden"
   ]
  },
  {
   "cell_type": "code",
   "execution_count": null,
   "id": "10e298c5",
   "metadata": {},
   "outputs": [],
   "source": [
    "3. Is there a need to change the height and width in a cell? Why?\n",
    "\n",
    ":- It is necessary to change width and height in excel to fit the data. \n",
    "   Excel by default provide equal width and height with respect to columns and rows. \n",
    "   Whenever we enter a lengthy data, few characters will get displayed and \n",
    "   other will be present inside the cell but will be hidden to the user."
   ]
  },
  {
   "cell_type": "code",
   "execution_count": null,
   "id": "eb24d4f2",
   "metadata": {},
   "outputs": [],
   "source": [
    "4. What is the keyboard shortcut to unhide rows?\n",
    "\n",
    ":- To unhide desired rows, click and drag with the mouse to highlight respective rows.\n",
    "   Press and hold down the Ctrl and the Shift keys on the keyboard.\n",
    "   Press and release the number 9 key without releasing the Ctrl and Shift keys. \n",
    "   The hidden row(s) will become visible."
   ]
  },
  {
   "cell_type": "code",
   "execution_count": null,
   "id": "4f321e5a",
   "metadata": {},
   "outputs": [],
   "source": [
    "5. How to hide rows containing blank cells?\n",
    "\n",
    ":- To hide rows containing blank cells\n",
    "    Select the range that contains empty cells you want to hide.\n",
    "    On the Home tab, in the Editing group, click Find & Select > Go To Special.\n",
    "    In the Go To Special dialog box, select the Blanks radio button, and click OK.\n",
    "    Press Ctrl + 9 to hide the corresponding rows."
   ]
  },
  {
   "cell_type": "code",
   "execution_count": null,
   "id": "be405754",
   "metadata": {},
   "outputs": [],
   "source": [
    "6. What are the steps to hide the duplicate values using conditional formatting in\n",
    "excel?\n",
    "\n",
    ":- To hide duplicate values using conditional formatting: \n",
    "    1. Select the range you want to hide duplicates. \n",
    "    2. Then click Conditional Formatting > Highlight Cells Rules > Duplicate Values under Home tab.\n",
    "    3. In the Duplicate Values dialog box, select Custom Format in the values with drop-down list, and then click the OK button.\n",
    "    4. In the Format Cells dialog box, go to the Font tab, and in the Color drop-down list, \n",
    "       choose a font color which matches the background color of your selected range cell. And click the OK button.\n",
    "    5. When it returns to the Duplicate Values dialog box, click the OK button."
   ]
  }
 ],
 "metadata": {
  "kernelspec": {
   "display_name": "Python 3",
   "language": "python",
   "name": "python3"
  },
  "language_info": {
   "codemirror_mode": {
    "name": "ipython",
    "version": 3
   },
   "file_extension": ".py",
   "mimetype": "text/x-python",
   "name": "python",
   "nbconvert_exporter": "python",
   "pygments_lexer": "ipython3",
   "version": "3.8.8"
  }
 },
 "nbformat": 4,
 "nbformat_minor": 5
}
