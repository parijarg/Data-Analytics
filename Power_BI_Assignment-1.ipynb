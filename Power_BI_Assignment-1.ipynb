{
 "cells": [
  {
   "cell_type": "markdown",
   "id": "549e2d2c",
   "metadata": {},
   "source": [
    "### What do you mean by BI? Explain."
   ]
  },
  {
   "cell_type": "markdown",
   "id": "96549c87",
   "metadata": {},
   "source": [
    "Business intelligence (BI) is a set of strategies and technologies that an organization uses to \n",
    "analyze business information and transform it into actionable insights that \n",
    "inform strategic and tactical business decisions.\n",
    "It basically transforms raw data into meaningful insights"
   ]
  },
  {
   "cell_type": "markdown",
   "id": "820b2adc",
   "metadata": {},
   "source": [
    "### How Power-BI helps in BI, and how does it help Analysts? Explain."
   ]
  },
  {
   "cell_type": "markdown",
   "id": "75d6ee51",
   "metadata": {},
   "source": [
    "Power BI is a analytics tool developed by Microsoft.\n",
    "It allows user to connect to various data resources,transform and clean the data, create interactive visuals and share insights across the organization.\n",
    "Interactive data visualization helps in bussiness decisions."
   ]
  },
  {
   "cell_type": "markdown",
   "id": "fdb83702",
   "metadata": {},
   "source": [
    "### Explain Descriptive analytics?"
   ]
  },
  {
   "cell_type": "markdown",
   "id": "88ca9c92",
   "metadata": {},
   "source": [
    "In descriptive analytics historical data is analysed to understand what has happened in the past\n",
    "Descriptive analytics helps organizations gain a better understanding of their past performance, identify patterns and trends, and monitor key performance indicators (KPIs)."
   ]
  },
  {
   "cell_type": "markdown",
   "id": "30ef0500",
   "metadata": {},
   "source": [
    "### Explain Predictive analytics?"
   ]
  },
  {
   "cell_type": "markdown",
   "id": "07303c41",
   "metadata": {},
   "source": [
    "Predictive analytics involves analyzing historical data and using statistical algorithms and machine learning techniques to forecast future outcomes.\n",
    "Predictive analytics enables organizations to make proactive decisions, mitigate risks, and capitalize on opportunities."
   ]
  },
  {
   "cell_type": "markdown",
   "id": "ea36eafe",
   "metadata": {},
   "source": [
    "### Explain perspective analytics?"
   ]
  },
  {
   "cell_type": "markdown",
   "id": "4bb725bd",
   "metadata": {},
   "source": [
    "Perspective analytics potentially refer to the practice of analyzing data from different perspectives or viewpoints to gain a comprehensive understanding of a situation. This might involve analyzing data from various angles or considering different factors that could impact the interpretation of data"
   ]
  },
  {
   "cell_type": "markdown",
   "id": "c1645bd7",
   "metadata": {},
   "source": [
    "### Write five real-life questions that PowerBi can solve."
   ]
  },
  {
   "cell_type": "markdown",
   "id": "5cdd2ead",
   "metadata": {},
   "source": [
    "1. What are the sales trends for different product categories over the past year, and how do they compare to previous years?\n",
    "\n",
    "2. Which marketing channels are driving the highest return on investment (ROI), and how can we optimize our marketing budget accordingly?\n",
    "\n",
    "3. What are the key factors influencing customer churn, and how can we reduce churn rate?\n",
    "\n",
    "4. How is website traffic performing across different geographic regions, and what are the demographics of our website visitors?\n",
    "\n",
    "5. What are the inventory levels for various products, and do we need to adjust our production or procurement strategy to meet demand?"
   ]
  }
 ],
 "metadata": {
  "kernelspec": {
   "display_name": "Python 3 (ipykernel)",
   "language": "python",
   "name": "python3"
  },
  "language_info": {
   "codemirror_mode": {
    "name": "ipython",
    "version": 3
   },
   "file_extension": ".py",
   "mimetype": "text/x-python",
   "name": "python",
   "nbconvert_exporter": "python",
   "pygments_lexer": "ipython3",
   "version": "3.9.13"
  }
 },
 "nbformat": 4,
 "nbformat_minor": 5
}
