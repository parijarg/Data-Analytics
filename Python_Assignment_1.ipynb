{
 "cells": [
  {
   "cell_type": "markdown",
   "id": "48ff55ca",
   "metadata": {},
   "source": [
    "#### 1. Write a Python program to print \"Hello Python\""
   ]
  },
  {
   "cell_type": "code",
   "execution_count": 3,
   "id": "4f431bd9",
   "metadata": {},
   "outputs": [
    {
     "name": "stdout",
     "output_type": "stream",
     "text": [
      "Hello Python\n"
     ]
    }
   ],
   "source": [
    "print(\"Hello Python\")"
   ]
  },
  {
   "cell_type": "markdown",
   "id": "3fc8c23f",
   "metadata": {},
   "source": [
    "#### 2. Write a Python program to do arithmetical operations addition and division.?"
   ]
  },
  {
   "cell_type": "code",
   "execution_count": 6,
   "id": "f80b03a6",
   "metadata": {},
   "outputs": [
    {
     "name": "stdout",
     "output_type": "stream",
     "text": [
      "Enter a Number: 15\n",
      "Enter a Number: 5\n",
      "Addition of Numbers is  20\n",
      "Division of Numbers is  3.0\n"
     ]
    }
   ],
   "source": [
    "num1=int(input(\"Enter a Number: \"))\n",
    "num2=int(input(\"Enter a Number: \"))\n",
    "if num2==0:\n",
    "    print(\"Enter a Valid Number\")\n",
    "    \n",
    "else:\n",
    "    add=num1+num2\n",
    "    div=num1/num2\n",
    "    print(\"Addition of Numbers is \",add)\n",
    "    print(\"Division of Numbers is \", div)"
   ]
  },
  {
   "cell_type": "markdown",
   "id": "b3d86d89",
   "metadata": {},
   "source": [
    "#### 3. Write a Python program to find the area of a triangle?\n"
   ]
  },
  {
   "cell_type": "code",
   "execution_count": 7,
   "id": "2479bb7f",
   "metadata": {},
   "outputs": [
    {
     "name": "stdout",
     "output_type": "stream",
     "text": [
      "Enter a Height: 20\n",
      "Enter a Base: 10\n",
      "Are of given Triangle is:  100.0\n"
     ]
    }
   ],
   "source": [
    "num1=int(input(\"Enter a Height: \"))\n",
    "num2=int(input(\"Enter a Base: \"))\n",
    "area=(num1*num2)/2\n",
    "print(\"Are of given Triangle is: \", area)"
   ]
  },
  {
   "cell_type": "markdown",
   "id": "d44f32fa",
   "metadata": {},
   "source": [
    "#### 4. Write a Python program to swap two variables"
   ]
  },
  {
   "cell_type": "code",
   "execution_count": 8,
   "id": "aeee8b45",
   "metadata": {},
   "outputs": [
    {
     "name": "stdout",
     "output_type": "stream",
     "text": [
      "50 20\n"
     ]
    }
   ],
   "source": [
    "a=20\n",
    "b=50\n",
    "a,b=b,a\n",
    "print(a,b)"
   ]
  },
  {
   "cell_type": "markdown",
   "id": "58bbd03a",
   "metadata": {},
   "source": [
    "\n",
    "#### 5. Write a Python program to generate a random number?"
   ]
  },
  {
   "cell_type": "code",
   "execution_count": 9,
   "id": "45b65399",
   "metadata": {},
   "outputs": [
    {
     "name": "stdout",
     "output_type": "stream",
     "text": [
      "20\n"
     ]
    }
   ],
   "source": [
    "import random\n",
    "print(random.randint(1,21))"
   ]
  },
  {
   "cell_type": "code",
   "execution_count": null,
   "id": "13b86e3e",
   "metadata": {},
   "outputs": [],
   "source": []
  }
 ],
 "metadata": {
  "kernelspec": {
   "display_name": "Python 3",
   "language": "python",
   "name": "python3"
  },
  "language_info": {
   "codemirror_mode": {
    "name": "ipython",
    "version": 3
   },
   "file_extension": ".py",
   "mimetype": "text/x-python",
   "name": "python",
   "nbconvert_exporter": "python",
   "pygments_lexer": "ipython3",
   "version": "3.8.8"
  }
 },
 "nbformat": 4,
 "nbformat_minor": 5
}
