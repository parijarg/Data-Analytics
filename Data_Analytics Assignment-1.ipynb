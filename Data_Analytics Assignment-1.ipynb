{
 "cells": [
  {
   "cell_type": "code",
   "execution_count": null,
   "id": "0ecc6f81",
   "metadata": {},
   "outputs": [],
   "source": [
    "1. What do you mean by cells in an excel sheet?\n",
    "\n",
    ":-  Cells are the boxes in the grid of an Excel worksheet. Each cell is identified on a worksheet by its reference, \n",
    "    the column is letter and row is a number that intersect at the cell's location. \n",
    "    If cell is in column A and row 1, then it is cell A1. The column always comes first in a cell reference."
   ]
  },
  {
   "cell_type": "code",
   "execution_count": null,
   "id": "6466efd7",
   "metadata": {},
   "outputs": [],
   "source": [
    "2. How can you restrict someone from copying a cell from your worksheet?\n",
    "\n",
    ":- In order to protect your worksheet from getting copied, you need to go into Menu bar >Review > Protect sheet > Password. \n",
    "   By entering password, you can secure your worksheet from getting copied by others."
   ]
  },
  {
   "cell_type": "code",
   "execution_count": null,
   "id": "fb5f72c6",
   "metadata": {},
   "outputs": [],
   "source": [
    "3. How to move or copy the worksheet into another workbook?\n",
    "\n",
    ":- Edit Menu > sheet > Move or Copy > To book menu > select workbook that you want to copy or move the sheet to"
   ]
  },
  {
   "cell_type": "code",
   "execution_count": null,
   "id": "f6d1fa22",
   "metadata": {},
   "outputs": [],
   "source": [
    "4. Which key is used as a shortcut for opening a new window document?\n",
    "\n",
    ":- Alt+W+N"
   ]
  },
  {
   "cell_type": "code",
   "execution_count": null,
   "id": "9c9b44be",
   "metadata": {},
   "outputs": [],
   "source": [
    "5. What are the things that we can notice after opening the Excel interface?\n",
    "\n",
    ":- The Excel Starter startup screen appears, and a blank spreadsheet is displayed. In Excel Starter,\n",
    "   a spreadsheet is called a worksheet, and worksheets are stored in a file called a workbook. \n",
    "   Workbooks can have one or more worksheets in them."
   ]
  },
  {
   "cell_type": "code",
   "execution_count": null,
   "id": "ef046ae5",
   "metadata": {},
   "outputs": [],
   "source": [
    "6. When to use a relative cell reference in excel?\n",
    "\n",
    ":- Relative references are used when we want to perform a similar operation on multiple cells and \n",
    "   the formula must change according to the relative address of column and row."
   ]
  }
 ],
 "metadata": {
  "kernelspec": {
   "display_name": "Python 3",
   "language": "python",
   "name": "python3"
  },
  "language_info": {
   "codemirror_mode": {
    "name": "ipython",
    "version": 3
   },
   "file_extension": ".py",
   "mimetype": "text/x-python",
   "name": "python",
   "nbconvert_exporter": "python",
   "pygments_lexer": "ipython3",
   "version": "3.8.8"
  }
 },
 "nbformat": 4,
 "nbformat_minor": 5
}
