{
 "cells": [
  {
   "cell_type": "code",
   "execution_count": null,
   "id": "a965d269",
   "metadata": {},
   "outputs": [],
   "source": [
    "1. What does the dollar($) sign do?\n",
    "\n",
    ":- Using the $ sign before the row and column coordinates makes an absolute \n",
    "   cell reference that won't change."
   ]
  },
  {
   "cell_type": "code",
   "execution_count": null,
   "id": "b32c0d39",
   "metadata": {},
   "outputs": [],
   "source": [
    "2. How to Change the Reference from Relative to Absolute (or Mixed)?\n",
    "\n",
    ":- To change the type of cell reference:\n",
    "\n",
    "    Select the cell that contains the formula.\n",
    "\n",
    "    In the formula bar, select the reference that you want to change.\n",
    "\n",
    "    Press F4 to switch between the reference types."
   ]
  },
  {
   "cell_type": "code",
   "execution_count": null,
   "id": "e783e336",
   "metadata": {},
   "outputs": [],
   "source": [
    "3. Explain the order of operations in excel?\n",
    "\n",
    ":-  In general, Excel's order of operation follows the acronym PEMDAS \n",
    "    (Parentheses, Exponents, Multiplication, Division, Addition, Subtraction)"
   ]
  },
  {
   "cell_type": "code",
   "execution_count": null,
   "id": "dd20500c",
   "metadata": {},
   "outputs": [],
   "source": [
    "4. What, according to you, are the top 5 functions in excel and write a basic syntax for any of two?\n",
    "\n",
    ":- According to me, top 5 functions in excel are\n",
    "   1. CONCATENATE()\n",
    "   2. SUMIF()\n",
    "   3. SUM()\n",
    "   4. AVERAGE()\n",
    "   5. COUNT()\n",
    "    \n",
    "    AVERAGE() function gives average of selected cells \n",
    "    =AVERAGE(A1:A8)\n",
    "    \n",
    "    SUMIF() function add values of cells that meets the specific criteria\n",
    "    =SUMIF(D1:D8,”>=10″,C1:C8)"
   ]
  },
  {
   "cell_type": "code",
   "execution_count": null,
   "id": "c4751adb",
   "metadata": {},
   "outputs": [],
   "source": [
    "5. When would you use the subtotal function?\n",
    "\n",
    ":- The SUBTOTAL function is used when you display a Total row in an Excel Table."
   ]
  },
  {
   "cell_type": "code",
   "execution_count": null,
   "id": "ed9b8743",
   "metadata": {},
   "outputs": [],
   "source": [
    "6. What is the syntax of the vlookup function? Explain the terms in it?\n",
    "\n",
    ":- VLOOKUP is used when you need to find things in a table or a range by row.\n",
    "   =VLOOKUP (lookup_value, table_array, col_index_num, [range_lookup])\n",
    "   1. Lookup value, \n",
    "   2. Range containing the lookup value, \n",
    "   3. The column number in the range containing the return value, \n",
    "   4. Approximate match (TRUE) or Exact match (FALSE))."
   ]
  }
 ],
 "metadata": {
  "kernelspec": {
   "display_name": "Python 3",
   "language": "python",
   "name": "python3"
  },
  "language_info": {
   "codemirror_mode": {
    "name": "ipython",
    "version": 3
   },
   "file_extension": ".py",
   "mimetype": "text/x-python",
   "name": "python",
   "nbconvert_exporter": "python",
   "pygments_lexer": "ipython3",
   "version": "3.8.8"
  }
 },
 "nbformat": 4,
 "nbformat_minor": 5
}
