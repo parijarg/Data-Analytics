{
 "cells": [
  {
   "cell_type": "code",
   "execution_count": null,
   "id": "c64f4314",
   "metadata": {},
   "outputs": [],
   "source": [
    "1. How and when to use the AutoSum command in excel?\n",
    "\n",
    ":- When you click AutoSum, Excel automatically enters a formula (that uses the SUM function) to sum the numbers.\n",
    "   To calculate sum of whole column or row of numbers Autosum command can be used."
   ]
  },
  {
   "cell_type": "code",
   "execution_count": null,
   "id": "379b741b",
   "metadata": {},
   "outputs": [],
   "source": [
    "2. What is the shortcut key to perform AutoSum?\n",
    "\n",
    ":- Shortcut key to perform autosum is: Alt + ="
   ]
  },
  {
   "cell_type": "code",
   "execution_count": null,
   "id": "455fa6f3",
   "metadata": {},
   "outputs": [],
   "source": [
    "3. How do you get rid of Formula that omits adjacent cells?\n",
    "\n",
    ":- To get rid of formula that omits adjecent cells\n",
    "    \n",
    "   Go to Options and then select Formulas.\n",
    "   Look for Error checking rules and uncheck Formulas which omit cells in a region.\n",
    "   Click OK."
   ]
  },
  {
   "cell_type": "code",
   "execution_count": null,
   "id": "40b57012",
   "metadata": {},
   "outputs": [],
   "source": [
    "4. How do you select non-adjacent cells in Excel 2016?\n",
    "\n",
    ":- Click on the cell.\n",
    "   Press the Control key on the keyboard. Keep holding it down while you are selecting cells.\n",
    "   Hold the left-click button on the mouse and drag it to the cells you want to select.\n",
    "  "
   ]
  },
  {
   "cell_type": "code",
   "execution_count": null,
   "id": "fe4a1cb9",
   "metadata": {},
   "outputs": [],
   "source": [
    "5. What happens if you choose a column, hold down the Alt key and press the letters\n",
    "ocw in quick succession?\n",
    "\n",
    ":- After choosing a clomun hold down the Alt key and press the letters ocw in quick succession,\n",
    "   selected column width can be edited by giving specific value."
   ]
  },
  {
   "cell_type": "code",
   "execution_count": null,
   "id": "0453ceac",
   "metadata": {},
   "outputs": [],
   "source": [
    "6. If you right-click on a row reference number and click on Insert, where will the row\n",
    "be added?\n",
    "\n",
    ":-  If you right-click on a row reference number and click on Insert, new row will be added abovethe selected row"
   ]
  }
 ],
 "metadata": {
  "kernelspec": {
   "display_name": "Python 3",
   "language": "python",
   "name": "python3"
  },
  "language_info": {
   "codemirror_mode": {
    "name": "ipython",
    "version": 3
   },
   "file_extension": ".py",
   "mimetype": "text/x-python",
   "name": "python",
   "nbconvert_exporter": "python",
   "pygments_lexer": "ipython3",
   "version": "3.8.8"
  }
 },
 "nbformat": 4,
 "nbformat_minor": 5
}
